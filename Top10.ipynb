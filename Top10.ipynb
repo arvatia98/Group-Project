{
 "cells": [
  {
   "cell_type": "code",
   "execution_count": 2,
   "metadata": {},
   "outputs": [],
   "source": [
    "import pandas as pd"
   ]
  },
  {
   "cell_type": "code",
   "execution_count": 3,
   "metadata": {},
   "outputs": [
    {
     "name": "stderr",
     "output_type": "stream",
     "text": [
      "/Users/Akhil/opt/anaconda3/lib/python3.8/site-packages/IPython/core/interactiveshell.py:3165: DtypeWarning: Columns (20,31,32) have mixed types.Specify dtype option on import or set low_memory=False.\n",
      "  has_raised = await self.run_ast_nodes(code_ast.body, cell_name,\n"
     ]
    }
   ],
   "source": [
    "df = pd.read_csv('311_Service_Requests_2020.csv')"
   ]
  },
  {
   "cell_type": "code",
   "execution_count": 4,
   "metadata": {},
   "outputs": [
    {
     "data": {
      "text/plain": [
       "(2587316, 41)"
      ]
     },
     "execution_count": 4,
     "metadata": {},
     "output_type": "execute_result"
    }
   ],
   "source": [
    "df.shape"
   ]
  },
  {
   "cell_type": "code",
   "execution_count": 7,
   "metadata": {},
   "outputs": [
    {
     "data": {
      "text/plain": [
       "(11617, 41)"
      ]
     },
     "execution_count": 7,
     "metadata": {},
     "output_type": "execute_result"
    }
   ],
   "source": [
    "filtered_df = df[df[\"Incident Zip\"]== 10001.0]\n",
    "filtered_df.shape"
   ]
  },
  {
   "cell_type": "code",
   "execution_count": 9,
   "metadata": {},
   "outputs": [
    {
     "name": "stdout",
     "output_type": "stream",
     "text": [
      "<class 'pandas.core.frame.DataFrame'>\n",
      "RangeIndex: 2587316 entries, 0 to 2587315\n",
      "Data columns (total 41 columns):\n",
      " #   Column                          Dtype  \n",
      "---  ------                          -----  \n",
      " 0   Unique Key                      int64  \n",
      " 1   Created Date                    object \n",
      " 2   Closed Date                     object \n",
      " 3   Agency                          object \n",
      " 4   Agency Name                     object \n",
      " 5   Complaint Type                  object \n",
      " 6   Descriptor                      object \n",
      " 7   Location Type                   object \n",
      " 8   Incident Zip                    float64\n",
      " 9   Incident Address                object \n",
      " 10  Street Name                     object \n",
      " 11  Cross Street 1                  object \n",
      " 12  Cross Street 2                  object \n",
      " 13  Intersection Street 1           object \n",
      " 14  Intersection Street 2           object \n",
      " 15  Address Type                    object \n",
      " 16  City                            object \n",
      " 17  Landmark                        object \n",
      " 18  Facility Type                   object \n",
      " 19  Status                          object \n",
      " 20  Due Date                        object \n",
      " 21  Resolution Description          object \n",
      " 22  Resolution Action Updated Date  object \n",
      " 23  Community Board                 object \n",
      " 24  BBL                             float64\n",
      " 25  Borough                         object \n",
      " 26  X Coordinate (State Plane)      float64\n",
      " 27  Y Coordinate (State Plane)      float64\n",
      " 28  Open Data Channel Type          object \n",
      " 29  Park Facility Name              object \n",
      " 30  Park Borough                    object \n",
      " 31  Vehicle Type                    object \n",
      " 32  Taxi Company Borough            object \n",
      " 33  Taxi Pick Up Location           object \n",
      " 34  Bridge Highway Name             object \n",
      " 35  Bridge Highway Direction        object \n",
      " 36  Road Ramp                       object \n",
      " 37  Bridge Highway Segment          object \n",
      " 38  Latitude                        float64\n",
      " 39  Longitude                       float64\n",
      " 40  Location                        object \n",
      "dtypes: float64(6), int64(1), object(34)\n",
      "memory usage: 809.3+ MB\n"
     ]
    }
   ],
   "source": [
    "df.info()"
   ]
  },
  {
   "cell_type": "code",
   "execution_count": 18,
   "metadata": {},
   "outputs": [
    {
     "data": {
      "text/plain": [
       "Noise - Residential                    1432\n",
       "Homeless Person Assistance              999\n",
       "Noise                                   897\n",
       "NonCompliance with Phased Reopening     816\n",
       "Homeless Street Condition               706\n",
       "Noise - Street/Sidewalk                 705\n",
       "Illegal Parking                         619\n",
       "Non-Emergency Police Matter             456\n",
       "Vending                                 357\n",
       "Street Condition                        294\n",
       "Name: Complaint Type, dtype: int64"
      ]
     },
     "execution_count": 18,
     "metadata": {},
     "output_type": "execute_result"
    }
   ],
   "source": [
    "top10 = filtered_df['Complaint Type'].value_counts().head(10)\n",
    "top10"
   ]
  },
  {
   "cell_type": "code",
   "execution_count": 20,
   "metadata": {},
   "outputs": [
    {
     "data": {
      "image/png": "[encoded data removed]",
      "text/plain": [
       "<Figure size 432x288 with 1 Axes>"
      ]
     },
     "metadata": {
      "needs_background": "light"
     },
     "output_type": "display_data"
    }
   ],
   "source": [
    "# plot \n",
    "top10.plot(kind='bar');"
   ]
  },
  {
   "cell_type": "code",
   "execution_count": null,
   "metadata": {},
   "outputs": [],
   "source": []
  }
 ],
 "metadata": {
  "interpreter": {
   "hash": "bf9f8ab9ed931cbfa9aaced8af894aed366ba0ca075c6faeb8eae3dc2b61cbf6"
  },
  "kernelspec": {
   "display_name": "Python 3.8.8 64-bit ('base': conda)",
   "language": "python",
   "name": "python3"
  },
  "language_info": {
   "codemirror_mode": {
    "name": "ipython",
    "version": 3
   },
   "file_extension": ".py",
   "mimetype": "text/x-python",
   "name": "python",
   "nbconvert_exporter": "python",
   "pygments_lexer": "ipython3",
   "version": "3.8.8"
  },
  "orig_nbformat": 4
 },
 "nbformat": 4,
 "nbformat_minor": 2
}
